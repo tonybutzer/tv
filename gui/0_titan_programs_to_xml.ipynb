{
 "cells": [
  {
   "cell_type": "code",
   "execution_count": 3,
   "id": "30f7167a",
   "metadata": {},
   "outputs": [],
   "source": [
    "#! rm ~/tv/titan/*.xml"
   ]
  },
  {
   "cell_type": "code",
   "execution_count": 4,
   "id": "56bf1813",
   "metadata": {},
   "outputs": [
    {
     "name": "stdout",
     "output_type": "stream",
     "text": [
      " junk.txt\t   'program(2).tvpi'   program.tvpi\r\n",
      "'program(1).tvpi'  'program(3).tvpi'\r\n"
     ]
    }
   ],
   "source": [
    "!ls ~/Downloads"
   ]
  },
  {
   "cell_type": "code",
   "execution_count": 5,
   "id": "820a4c20",
   "metadata": {},
   "outputs": [],
   "source": [
    "#!mkdir ~/tv/titan"
   ]
  },
  {
   "cell_type": "code",
   "execution_count": 6,
   "id": "16332901",
   "metadata": {},
   "outputs": [],
   "source": [
    "#! cat /home/tony/Downloads/program.tvpi"
   ]
  },
  {
   "cell_type": "code",
   "execution_count": 7,
   "id": "6cfb3694",
   "metadata": {},
   "outputs": [],
   "source": [
    "#! pip install xmltodict"
   ]
  },
  {
   "cell_type": "code",
   "execution_count": 8,
   "id": "3b731c7a",
   "metadata": {},
   "outputs": [
    {
     "data": {
      "text/plain": [
       "{'tv-program-info': {'@version': '1.0',\n",
       "  'program': {'station': 'UTV',\n",
       "   'tv-mode': 'digital',\n",
       "   'program-title': 'Dateline',\n",
       "   'episode-title': \"A Teacher's Message\",\n",
       "   'program-description': \"When a photo of a teacher is found on a student's phone, a 33-year-old tutor is charged with having an illegal relationship with the student, but she has a shocking defense that makes the jury must decide if she is a victim or if she is a predator.\",\n",
       "   'start-date': '20221215',\n",
       "   'start-time': '15:00',\n",
       "   'end-date': '20221215',\n",
       "   'end-time': '16:00',\n",
       "   'duration': '01:00',\n",
       "   'rf-channel': '11',\n",
       "   'psip-major': '11',\n",
       "   'psip-minor': '2',\n",
       "   'stream-number': '2'}}}"
      ]
     },
     "execution_count": 8,
     "metadata": {},
     "output_type": "execute_result"
    }
   ],
   "source": [
    "import xmltodict\n",
    "# import pprint\n",
    "# import json\n",
    "\n",
    "with open('/home/tony/Downloads/program.tvpi') as fd:\n",
    "    doc = xmltodict.parse(fd.read())\n",
    "\n",
    "doc\n"
   ]
  },
  {
   "cell_type": "code",
   "execution_count": 9,
   "id": "3881aca8",
   "metadata": {},
   "outputs": [],
   "source": [
    "oldpath = '/home/tony/Downloads/program.tvpi'\n",
    "program = doc['tv-program-info']['program']['program-title']\n",
    "fname = program.replace(' ','_') + '.xml'\n",
    "newpath = f'/home/tony/tv/titan/{fname}'"
   ]
  },
  {
   "cell_type": "code",
   "execution_count": 10,
   "id": "ca0f8737",
   "metadata": {},
   "outputs": [
    {
     "data": {
      "text/plain": [
       "'/home/tony/tv/titan/Dateline.xml'"
      ]
     },
     "execution_count": 10,
     "metadata": {},
     "output_type": "execute_result"
    }
   ],
   "source": [
    "newpath"
   ]
  },
  {
   "cell_type": "code",
   "execution_count": 11,
   "id": "54d76cd0",
   "metadata": {},
   "outputs": [],
   "source": [
    "import os"
   ]
  },
  {
   "cell_type": "code",
   "execution_count": 12,
   "id": "721950f2",
   "metadata": {},
   "outputs": [],
   "source": [
    "def uniquify(path):\n",
    "    filename, extension = os.path.splitext(path)\n",
    "    counter = 1\n",
    "\n",
    "    while os.path.exists(path):\n",
    "        path = filename + \"_(\" + str(counter) + \")\" + extension\n",
    "        counter += 1\n",
    "\n",
    "    return path"
   ]
  },
  {
   "cell_type": "code",
   "execution_count": 13,
   "id": "e63fcd77",
   "metadata": {},
   "outputs": [],
   "source": [
    "! echo JUNKdeadBeef > /home/tony/Downloads/junk.txt"
   ]
  },
  {
   "cell_type": "code",
   "execution_count": 14,
   "id": "d81427a1",
   "metadata": {},
   "outputs": [],
   "source": [
    "def get_files_titan():\n",
    "    dir_path = '/home/tony/Downloads'\n",
    "    res = os.listdir(dir_path)\n",
    "    results = [i for i in res \n",
    "              if i.startswith('program')]\n",
    "    fresults = []\n",
    "    for file in results:\n",
    "        fresults.append(f'{dir_path}/{file}')\n",
    "    return fresults"
   ]
  },
  {
   "cell_type": "code",
   "execution_count": 15,
   "id": "975ec52b",
   "metadata": {},
   "outputs": [],
   "source": [
    "my_programs = get_files_titan()"
   ]
  },
  {
   "cell_type": "code",
   "execution_count": 16,
   "id": "28ece8a0",
   "metadata": {},
   "outputs": [
    {
     "data": {
      "text/plain": [
       "['/home/tony/Downloads/program.tvpi',\n",
       " '/home/tony/Downloads/program(3).tvpi',\n",
       " '/home/tony/Downloads/program(2).tvpi',\n",
       " '/home/tony/Downloads/program(1).tvpi']"
      ]
     },
     "execution_count": 16,
     "metadata": {},
     "output_type": "execute_result"
    }
   ],
   "source": [
    "my_programs"
   ]
  },
  {
   "cell_type": "code",
   "execution_count": 17,
   "id": "2e9d2343",
   "metadata": {},
   "outputs": [],
   "source": [
    "class TITAN:\n",
    "    def __init__(self, file):\n",
    "        print('init')\n",
    "        with open(file) as fd:\n",
    "            self.doc = xmltodict.parse(fd.read())\n",
    "    def title(self):\n",
    "        self.title = self.doc['tv-program-info']['program']['program-title'].replace(' ', '_')\n",
    "        return self.title"
   ]
  },
  {
   "cell_type": "code",
   "execution_count": 18,
   "id": "12cf6040",
   "metadata": {},
   "outputs": [],
   "source": [
    "def mv_programs_to_titan(programs):\n",
    "    for program in programs:\n",
    "        print(program)\n",
    "        t=TITAN(program)\n",
    "        title = t.title()\n",
    "        print(title)\n",
    "        fname = title+'.xml'\n",
    "        newpath = f'/home/tony/tv/titan/{fname}'\n",
    "        newpath = uniquify(newpath)\n",
    "        print(newpath)\n",
    "        os.rename(program,newpath)\n",
    "        "
   ]
  },
  {
   "cell_type": "code",
   "execution_count": 19,
   "id": "9beccb14",
   "metadata": {},
   "outputs": [
    {
     "name": "stdout",
     "output_type": "stream",
     "text": [
      "/home/tony/Downloads/program.tvpi\n",
      "init\n",
      "Dateline\n",
      "/home/tony/tv/titan/Dateline.xml\n",
      "/home/tony/Downloads/program(3).tvpi\n",
      "init\n",
      "NBC_News_Daily\n",
      "/home/tony/tv/titan/NBC_News_Daily.xml\n",
      "/home/tony/Downloads/program(2).tvpi\n",
      "init\n",
      "The_People's_Court\n",
      "/home/tony/tv/titan/The_People's_Court.xml\n",
      "/home/tony/Downloads/program(1).tvpi\n",
      "init\n",
      "The_Best_of_the_Joy_of_Painting\n",
      "/home/tony/tv/titan/The_Best_of_the_Joy_of_Painting.xml\n"
     ]
    }
   ],
   "source": [
    "mv_programs_to_titan(my_programs)"
   ]
  },
  {
   "cell_type": "code",
   "execution_count": 20,
   "id": "86e06916",
   "metadata": {},
   "outputs": [
    {
     "name": "stdout",
     "output_type": "stream",
     "text": [
      " Dateline.xml\t      The_Best_of_the_Joy_of_Painting.xml\r\n",
      " NBC_News_Daily.xml  \"The_People's_Court.xml\"\r\n"
     ]
    }
   ],
   "source": [
    "! ls /home/tony/tv/titan/"
   ]
  },
  {
   "cell_type": "code",
   "execution_count": 21,
   "id": "d2943180",
   "metadata": {},
   "outputs": [
    {
     "name": "stdout",
     "output_type": "stream",
     "text": [
      "junk.txt\r\n"
     ]
    }
   ],
   "source": [
    "!ls /home/tony/Downloads/"
   ]
  },
  {
   "cell_type": "code",
   "execution_count": 22,
   "id": "372ff040",
   "metadata": {},
   "outputs": [
    {
     "name": "stdout",
     "output_type": "stream",
     "text": [
      "cat: /home/tony/tv/titan/The_Big_Bang_Theory.xml: No such file or directory\r\n"
     ]
    }
   ],
   "source": [
    "#! cat /home/tony/tv/titan/The_Big_Bang_Theory.xml"
   ]
  },
  {
   "cell_type": "code",
   "execution_count": 42,
   "id": "af19c378",
   "metadata": {},
   "outputs": [
    {
     "name": "stdout",
     "output_type": "stream",
     "text": [
      "mv: cannot stat 'Dateline (1).xml': No such file or directory\r\n"
     ]
    }
   ],
   "source": [
    "! mv 'Dateline (1).xml' Dateline_1.xml"
   ]
  },
  {
   "cell_type": "code",
   "execution_count": 43,
   "id": "6051ae60",
   "metadata": {},
   "outputs": [
    {
     "name": "stdout",
     "output_type": "stream",
     "text": [
      "0_create_channel_lineup_csv.ipynb\t    channels.csv\r\n",
      "1_simple_record_development.ipynb\t    classes.py\r\n",
      "1_tv_gui_panel.ipynb\t\t\t    conda\r\n",
      "2_now_we_are_recording.ipynb\t\t    demofile2.txt\r\n",
      "91_examine_titan_file_fun_with_dates.ipynb  Makefile\r\n",
      "9_channel_scan_map_phys.ipynb\t\t    __pycache__\r\n",
      "9_channel_scan_test.ipynb\t\t    record_classes.py\r\n",
      "9_examine_titan_file.ipynb\t\t    recorder.log\r\n",
      "a.ts\t\t\t\t\t    titan_record.py\r\n",
      "Attic\t\t\t\t\t    tr.sh\r\n",
      "b.sh\r\n"
     ]
    }
   ],
   "source": [
    "!ls"
   ]
  },
  {
   "cell_type": "code",
   "execution_count": null,
   "id": "d3ba25a8",
   "metadata": {},
   "outputs": [],
   "source": []
  },
  {
   "cell_type": "code",
   "execution_count": null,
   "id": "0901631e",
   "metadata": {},
   "outputs": [],
   "source": []
  }
 ],
 "metadata": {
  "kernelspec": {
   "display_name": "Python 3 (ipykernel)",
   "language": "python",
   "name": "python3"
  },
  "language_info": {
   "codemirror_mode": {
    "name": "ipython",
    "version": 3
   },
   "file_extension": ".py",
   "mimetype": "text/x-python",
   "name": "python",
   "nbconvert_exporter": "python",
   "pygments_lexer": "ipython3",
   "version": "3.10.8"
  }
 },
 "nbformat": 4,
 "nbformat_minor": 5
}
