{
 "cells": [
  {
   "cell_type": "code",
   "execution_count": 1,
   "id": "30f7167a",
   "metadata": {},
   "outputs": [],
   "source": [
    "#! rm ~/tv/titan/*.xml"
   ]
  },
  {
   "cell_type": "code",
   "execution_count": 2,
   "id": "56bf1813",
   "metadata": {},
   "outputs": [
    {
     "name": "stdout",
     "output_type": "stream",
     "text": [
      "'program(1).tvpi'  'program(3).tvpi'  'program(5).tvpi'   program.tvpi\r\n",
      "'program(2).tvpi'  'program(4).tvpi'  'program(6).tvpi'\r\n"
     ]
    }
   ],
   "source": [
    "!ls ~/Downloads"
   ]
  },
  {
   "cell_type": "code",
   "execution_count": 3,
   "id": "820a4c20",
   "metadata": {},
   "outputs": [],
   "source": [
    "#!mkdir ~/tv/titan"
   ]
  },
  {
   "cell_type": "code",
   "execution_count": 4,
   "id": "16332901",
   "metadata": {},
   "outputs": [],
   "source": [
    "#! cat /home/tony/Downloads/program.tvpi"
   ]
  },
  {
   "cell_type": "code",
   "execution_count": 5,
   "id": "6cfb3694",
   "metadata": {},
   "outputs": [],
   "source": [
    "#! pip install xmltodict"
   ]
  },
  {
   "cell_type": "code",
   "execution_count": 6,
   "id": "3b731c7a",
   "metadata": {},
   "outputs": [
    {
     "data": {
      "text/plain": [
       "{'tv-program-info': {'@version': '1.0',\n",
       "  'program': {'station': 'KELO-TV',\n",
       "   'tv-mode': 'digital',\n",
       "   'program-title': 'The Late Show with Stephen Colbert',\n",
       "   'program-description': '\"Rescue Dog Rescue\" with TV hosts Andy Cohen and Anderson Cooper; musician Louis Cato performs with the \"Late Show Band.\"',\n",
       "   'start-date': '20221216',\n",
       "   'start-time': '04:35',\n",
       "   'end-date': '20221216',\n",
       "   'end-time': '05:37',\n",
       "   'duration': '01:02',\n",
       "   'rf-channel': '11',\n",
       "   'psip-major': '11',\n",
       "   'psip-minor': '1',\n",
       "   'stream-number': '1'}}}"
      ]
     },
     "execution_count": 6,
     "metadata": {},
     "output_type": "execute_result"
    }
   ],
   "source": [
    "import xmltodict\n",
    "# import pprint\n",
    "# import json\n",
    "\n",
    "with open('/home/tony/Downloads/program.tvpi') as fd:\n",
    "    doc = xmltodict.parse(fd.read())\n",
    "\n",
    "doc\n"
   ]
  },
  {
   "cell_type": "code",
   "execution_count": 7,
   "id": "3881aca8",
   "metadata": {},
   "outputs": [],
   "source": [
    "oldpath = '/home/tony/Downloads/program.tvpi'\n",
    "program = doc['tv-program-info']['program']['program-title']\n",
    "fname = program.replace(' ','_') + '.xml'\n",
    "newpath = f'/home/tony/tv/titan/{fname}'"
   ]
  },
  {
   "cell_type": "code",
   "execution_count": 8,
   "id": "ca0f8737",
   "metadata": {},
   "outputs": [
    {
     "data": {
      "text/plain": [
       "'/home/tony/tv/titan/The_Late_Show_with_Stephen_Colbert.xml'"
      ]
     },
     "execution_count": 8,
     "metadata": {},
     "output_type": "execute_result"
    }
   ],
   "source": [
    "newpath"
   ]
  },
  {
   "cell_type": "code",
   "execution_count": 9,
   "id": "54d76cd0",
   "metadata": {},
   "outputs": [],
   "source": [
    "import os"
   ]
  },
  {
   "cell_type": "code",
   "execution_count": 10,
   "id": "721950f2",
   "metadata": {},
   "outputs": [],
   "source": [
    "def uniquify(path):\n",
    "    filename, extension = os.path.splitext(path)\n",
    "    counter = 1\n",
    "\n",
    "    while os.path.exists(path):\n",
    "        path = filename + \"_(\" + str(counter) + \")\" + extension\n",
    "        counter += 1\n",
    "\n",
    "    return path"
   ]
  },
  {
   "cell_type": "code",
   "execution_count": 11,
   "id": "e63fcd77",
   "metadata": {},
   "outputs": [],
   "source": [
    "! echo JUNKdeadBeef > /home/tony/Downloads/junk.txt"
   ]
  },
  {
   "cell_type": "code",
   "execution_count": 12,
   "id": "d81427a1",
   "metadata": {},
   "outputs": [],
   "source": [
    "def get_files_titan():\n",
    "    dir_path = '/home/tony/Downloads'\n",
    "    res = os.listdir(dir_path)\n",
    "    results = [i for i in res \n",
    "              if i.startswith('program')]\n",
    "    fresults = []\n",
    "    for file in results:\n",
    "        fresults.append(f'{dir_path}/{file}')\n",
    "    return fresults"
   ]
  },
  {
   "cell_type": "code",
   "execution_count": 13,
   "id": "975ec52b",
   "metadata": {},
   "outputs": [],
   "source": [
    "my_programs = get_files_titan()"
   ]
  },
  {
   "cell_type": "code",
   "execution_count": 14,
   "id": "28ece8a0",
   "metadata": {},
   "outputs": [
    {
     "data": {
      "text/plain": [
       "['/home/tony/Downloads/program(1).tvpi',\n",
       " '/home/tony/Downloads/program(4).tvpi',\n",
       " '/home/tony/Downloads/program(6).tvpi',\n",
       " '/home/tony/Downloads/program.tvpi',\n",
       " '/home/tony/Downloads/program(3).tvpi',\n",
       " '/home/tony/Downloads/program(5).tvpi',\n",
       " '/home/tony/Downloads/program(2).tvpi']"
      ]
     },
     "execution_count": 14,
     "metadata": {},
     "output_type": "execute_result"
    }
   ],
   "source": [
    "my_programs"
   ]
  },
  {
   "cell_type": "code",
   "execution_count": 15,
   "id": "2e9d2343",
   "metadata": {},
   "outputs": [],
   "source": [
    "class TITAN:\n",
    "    def __init__(self, file):\n",
    "        print('init')\n",
    "        with open(file) as fd:\n",
    "            self.doc = xmltodict.parse(fd.read())\n",
    "    def title(self):\n",
    "        self.title = self.doc['tv-program-info']['program']['program-title'].replace(' ', '_')\n",
    "        return self.title"
   ]
  },
  {
   "cell_type": "code",
   "execution_count": 16,
   "id": "12cf6040",
   "metadata": {},
   "outputs": [],
   "source": [
    "def mv_programs_to_titan(programs):\n",
    "    for program in programs:\n",
    "        print(program)\n",
    "        t=TITAN(program)\n",
    "        title = t.title()\n",
    "        print(title)\n",
    "        fname = title+'.xml'\n",
    "        newpath = f'/home/tony/tv/titan/{fname}'\n",
    "        newpath = uniquify(newpath)\n",
    "        print(newpath)\n",
    "        os.rename(program,newpath)\n",
    "        "
   ]
  },
  {
   "cell_type": "code",
   "execution_count": 17,
   "id": "9beccb14",
   "metadata": {},
   "outputs": [
    {
     "name": "stdout",
     "output_type": "stream",
     "text": [
      "/home/tony/Downloads/program(1).tvpi\n",
      "init\n",
      "CSI:_Vegas\n",
      "/home/tony/tv/titan/CSI:_Vegas.xml\n",
      "/home/tony/Downloads/program(4).tvpi\n",
      "init\n",
      "CBS_Evening_News_with_Norah_O'Donnell\n",
      "/home/tony/tv/titan/CBS_Evening_News_with_Norah_O'Donnell.xml\n",
      "/home/tony/Downloads/program(6).tvpi\n",
      "init\n",
      "KELOLAND_News_First_@_4\n",
      "/home/tony/tv/titan/KELOLAND_News_First_@_4.xml\n",
      "/home/tony/Downloads/program.tvpi\n",
      "init\n",
      "The_Late_Show_with_Stephen_Colbert\n",
      "/home/tony/tv/titan/The_Late_Show_with_Stephen_Colbert.xml\n",
      "/home/tony/Downloads/program(3).tvpi\n",
      "init\n",
      "Entertainment_Tonight\n",
      "/home/tony/tv/titan/Entertainment_Tonight.xml\n",
      "/home/tony/Downloads/program(5).tvpi\n",
      "init\n",
      "KELOLAND_News_at_Five\n",
      "/home/tony/tv/titan/KELOLAND_News_at_Five.xml\n",
      "/home/tony/Downloads/program(2).tvpi\n",
      "init\n",
      "So_Help_Me_Todd\n",
      "/home/tony/tv/titan/So_Help_Me_Todd.xml\n"
     ]
    }
   ],
   "source": [
    "mv_programs_to_titan(my_programs)"
   ]
  },
  {
   "cell_type": "code",
   "execution_count": 18,
   "id": "86e06916",
   "metadata": {},
   "outputs": [
    {
     "name": "stdout",
     "output_type": "stream",
     "text": [
      "\"CBS_Evening_News_with_Norah_O'Donnell.xml\"\r\n",
      " CSI:_Vegas.xml\r\n",
      " Entertainment_Tonight.xml\r\n",
      " KELOLAND_News_at_Five.xml\r\n",
      " KELOLAND_News_First_@_4.xml\r\n",
      " recording\r\n",
      " So_Help_Me_Todd.xml\r\n",
      " The_Late_Show_with_Stephen_Colbert.xml\r\n"
     ]
    }
   ],
   "source": [
    "! ls /home/tony/tv/titan/"
   ]
  },
  {
   "cell_type": "code",
   "execution_count": 19,
   "id": "d2943180",
   "metadata": {},
   "outputs": [
    {
     "name": "stdout",
     "output_type": "stream",
     "text": [
      "junk.txt\r\n"
     ]
    }
   ],
   "source": [
    "!ls /home/tony/Downloads/"
   ]
  },
  {
   "cell_type": "code",
   "execution_count": 20,
   "id": "372ff040",
   "metadata": {},
   "outputs": [],
   "source": [
    "#! cat /home/tony/tv/titan/The_Big_Bang_Theory.xml"
   ]
  },
  {
   "cell_type": "code",
   "execution_count": 21,
   "id": "af19c378",
   "metadata": {},
   "outputs": [
    {
     "name": "stdout",
     "output_type": "stream",
     "text": [
      "mv: cannot stat 'Dateline (1).xml': No such file or directory\r\n"
     ]
    }
   ],
   "source": [
    "! mv 'Dateline (1).xml' Dateline_1.xml"
   ]
  },
  {
   "cell_type": "code",
   "execution_count": 22,
   "id": "6051ae60",
   "metadata": {},
   "outputs": [
    {
     "name": "stdout",
     "output_type": "stream",
     "text": [
      "0_titan_programs_to_xml.ipynb\t\t    a.ts\t   Makefile\r\n",
      "1_simple_record_development.ipynb\t    Attic\t   __pycache__\r\n",
      "1_tv_gui_panel.ipynb\t\t\t    b.sh\t   record_classes.py\r\n",
      "2_now_we_are_recording.ipynb\t\t    channels.csv   recorder.log\r\n",
      "91_examine_titan_file_fun_with_dates.ipynb  classes.py\t   titan_record.py\r\n",
      "9_channel_scan_map_phys.ipynb\t\t    conda\t   tr.sh\r\n",
      "9_channel_scan_test.ipynb\t\t    demofile2.txt\r\n"
     ]
    }
   ],
   "source": [
    "!ls"
   ]
  },
  {
   "cell_type": "code",
   "execution_count": null,
   "id": "d3ba25a8",
   "metadata": {},
   "outputs": [],
   "source": []
  },
  {
   "cell_type": "code",
   "execution_count": null,
   "id": "0901631e",
   "metadata": {},
   "outputs": [],
   "source": []
  },
  {
   "cell_type": "code",
   "execution_count": null,
   "id": "53474611",
   "metadata": {},
   "outputs": [],
   "source": []
  }
 ],
 "metadata": {
  "kernelspec": {
   "display_name": "Python 3 (ipykernel)",
   "language": "python",
   "name": "python3"
  },
  "language_info": {
   "codemirror_mode": {
    "name": "ipython",
    "version": 3
   },
   "file_extension": ".py",
   "mimetype": "text/x-python",
   "name": "python",
   "nbconvert_exporter": "python",
   "pygments_lexer": "ipython3",
   "version": "3.10.8"
  }
 },
 "nbformat": 4,
 "nbformat_minor": 5
}
