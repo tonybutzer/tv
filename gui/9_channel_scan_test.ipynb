{
 "cells": [
  {
   "cell_type": "code",
   "execution_count": 1,
   "id": "6ee3a192",
   "metadata": {},
   "outputs": [
    {
     "name": "stdout",
     "output_type": "stream",
     "text": [
      "channel\n",
      "   human_channel   freq  phys  sub             station\n",
      "0           36.1   8vsb    36    1             KWSD-TV\n",
      "1           14.1   8vsb    32    3      Dabl-(no-data)\n",
      "2           14.2   8vsb    32    4             Charge!\n",
      "3           14.3   8vsb    32    5     Comet-(no-data)\n",
      "4           14.4   8vsb    32    6   Stadium-(no-data)\n",
      "hello\n",
      "b'hdhomerun device 103AF69D found at 192.168.0.50\\n'\n",
      "103AF69D\n",
      "36.1, 8vsb, 36, 1, KWSD-TV\n",
      "14.1, 8vsb, 32, 3, Dabl\n",
      "14.2, 8vsb, 32, 4, Charge!\n",
      "14.3, 8vsb, 32, 5, Comet\n",
      "14.4, 8vsb, 32, 6, Stadium\n",
      "46.1, 8vsb, 21, 3, KDLT-TV\n",
      "46.2, 8vsb, 21, 4, FOX\n",
      "46.3, 8vsb, 21, 5, Antenna\n",
      "46.4, 8vsb, 21, 6, Cozi\n",
      "46.5, 8vsb, 21, 7, Court\n",
      "11.1, 8vsb, 11, 3, KELO\n",
      "11.2, 8vsb, 11, 4, UTV\n",
      "11.3, 8vsb, 11, 5, ION\n",
      "11.4, 8vsb, 11, 6, Escape\n",
      "7.1, 8vsb, 7, 3, KTTW-HD\n",
      "7.2, 8vsb, 7, 4, ThisTV\n",
      "7.3, 8vsb, 7, 5, SBN\n",
      "7.4, 8vsb, 7, 6, LAFF\n",
      "7.5, 8vsb, 7, 7, Bounce\n",
      "7.6, 8vsb, 7, 8, Grit\n",
      "7.7, 8vsb, 7, 9, DEFY\n",
      "7.8, 8vsb, 7, 10, TrReal\n",
      "7.9, 8vsb, 7, 11, NEWSY\n",
      "7.10, 8vsb, 7, 12, Quest\n",
      "7.11, 8vsb, 7, 13, Twist\n",
      "human_channel, freq, phys, sub, station\n"
     ]
    }
   ],
   "source": [
    "from classes import CHANNEL\n",
    "\n",
    "c = CHANNEL()\n",
    "\n",
    "c.scan()"
   ]
  },
  {
   "cell_type": "code",
   "execution_count": 2,
   "id": "aa2371ec",
   "metadata": {},
   "outputs": [
    {
     "name": "stdout",
     "output_type": "stream",
     "text": [
      "human_channel,freq,phys,sub,station\r\n",
      "36.1, 8vsb, 36, 1, KWSD-TV\r\n",
      "14.1, 8vsb, 32, 3, Dabl\r\n",
      "14.2, 8vsb, 32, 4, Charge!\r\n",
      "14.3, 8vsb, 32, 5, Comet\r\n",
      "14.4, 8vsb, 32, 6, Stadium\r\n",
      "46.1, 8vsb, 21, 3, KDLT-TV\r\n",
      "46.2, 8vsb, 21, 4, FOX\r\n",
      "46.3, 8vsb, 21, 5, Antenna\r\n",
      "46.4, 8vsb, 21, 6, Cozi\r\n",
      "46.5, 8vsb, 21, 7, Court\r\n",
      "11.1, 8vsb, 11, 3, KELO\r\n",
      "11.2, 8vsb, 11, 4, UTV\r\n",
      "11.3, 8vsb, 11, 5, ION\r\n",
      "11.4, 8vsb, 11, 6, Escape\r\n",
      "7.1, 8vsb, 7, 3, KTTW-HD\r\n",
      "7.2, 8vsb, 7, 4, ThisTV\r\n",
      "7.3, 8vsb, 7, 5, SBN\r\n",
      "7.4, 8vsb, 7, 6, LAFF\r\n",
      "7.5, 8vsb, 7, 7, Bounce\r\n",
      "7.6, 8vsb, 7, 8, Grit\r\n",
      "7.7, 8vsb, 7, 9, DEFY\r\n",
      "7.8, 8vsb, 7, 10, TrReal\r\n",
      "7.9, 8vsb, 7, 11, NEWSY\r\n",
      "7.10, 8vsb, 7, 12, Quest\r\n",
      "7.11, 8vsb, 7, 13, Twist\r\n"
     ]
    }
   ],
   "source": [
    "! cat channels.csv"
   ]
  },
  {
   "cell_type": "code",
   "execution_count": null,
   "id": "bc6ab3a4",
   "metadata": {},
   "outputs": [],
   "source": []
  }
 ],
 "metadata": {
  "kernelspec": {
   "display_name": "Python 3 (ipykernel)",
   "language": "python",
   "name": "python3"
  },
  "language_info": {
   "codemirror_mode": {
    "name": "ipython",
    "version": 3
   },
   "file_extension": ".py",
   "mimetype": "text/x-python",
   "name": "python",
   "nbconvert_exporter": "python",
   "pygments_lexer": "ipython3",
   "version": "3.10.8"
  }
 },
 "nbformat": 4,
 "nbformat_minor": 5
}
