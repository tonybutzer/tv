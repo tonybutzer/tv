{
 "cells": [
  {
   "cell_type": "code",
   "execution_count": 22,
   "id": "48f14945",
   "metadata": {},
   "outputs": [],
   "source": [
    "from classes import TITAN, get_files_titan_xml, state_recording"
   ]
  },
  {
   "cell_type": "code",
   "execution_count": 5,
   "id": "e6aa6a8f",
   "metadata": {},
   "outputs": [],
   "source": [
    "my_programs = get_files_titan_xml()"
   ]
  },
  {
   "cell_type": "code",
   "execution_count": 6,
   "id": "4f5f2feb",
   "metadata": {},
   "outputs": [
    {
     "data": {
      "text/plain": [
       "['/home/tony/tv/titan/Dateline.xml',\n",
       " '/home/tony/tv/titan/The_Best_of_the_Joy_of_Painting.xml',\n",
       " '/home/tony/tv/titan/The_Peoples_Court.xml',\n",
       " '/home/tony/tv/titan/NBC_News_Daily.xml']"
      ]
     },
     "execution_count": 6,
     "metadata": {},
     "output_type": "execute_result"
    }
   ],
   "source": [
    "my_programs"
   ]
  },
  {
   "cell_type": "code",
   "execution_count": 7,
   "id": "23abdcae",
   "metadata": {},
   "outputs": [
    {
     "data": {
      "text/plain": [
       "'/home/tony/tv/titan/Dateline.xml'"
      ]
     },
     "execution_count": 7,
     "metadata": {},
     "output_type": "execute_result"
    }
   ],
   "source": [
    "p = my_programs[0]\n",
    "\n",
    "p"
   ]
  },
  {
   "cell_type": "code",
   "execution_count": 8,
   "id": "6ca0f11f",
   "metadata": {},
   "outputs": [
    {
     "name": "stdout",
     "output_type": "stream",
     "text": [
      "init\n",
      "202212150900\n",
      "202212151000\n"
     ]
    }
   ],
   "source": [
    "t = TITAN(p)"
   ]
  },
  {
   "cell_type": "code",
   "execution_count": 9,
   "id": "1642199c",
   "metadata": {},
   "outputs": [
    {
     "data": {
      "text/plain": [
       "'202212150900'"
      ]
     },
     "execution_count": 9,
     "metadata": {},
     "output_type": "execute_result"
    }
   ],
   "source": [
    "t.start_time()"
   ]
  },
  {
   "cell_type": "markdown",
   "id": "7dacadd7",
   "metadata": {},
   "source": [
    "# titan recorder\n",
    "\n"
   ]
  },
  {
   "cell_type": "code",
   "execution_count": 10,
   "id": "c01eb40a",
   "metadata": {},
   "outputs": [
    {
     "data": {
      "text/plain": [
       "'Dateline'"
      ]
     },
     "execution_count": 10,
     "metadata": {},
     "output_type": "execute_result"
    }
   ],
   "source": [
    "t.title()"
   ]
  },
  {
   "cell_type": "code",
   "execution_count": 11,
   "id": "b84ed3c9",
   "metadata": {},
   "outputs": [],
   "source": [
    "video_dir = '/home/tony/tv/video'\n",
    "my_title = t.title()\n",
    "# type(my_title)\n",
    "mpg_file = f'{video_dir}/{my_title}.mpg'"
   ]
  },
  {
   "cell_type": "code",
   "execution_count": 42,
   "id": "c6d77448",
   "metadata": {},
   "outputs": [],
   "source": [
    "#! mkdir /home/tony/tv/video"
   ]
  },
  {
   "cell_type": "code",
   "execution_count": 12,
   "id": "4b7fc1ba",
   "metadata": {},
   "outputs": [
    {
     "data": {
      "text/plain": [
       "'/home/tony/tv/video/Dateline.mpg'"
      ]
     },
     "execution_count": 12,
     "metadata": {},
     "output_type": "execute_result"
    }
   ],
   "source": [
    "mpg_file"
   ]
  },
  {
   "cell_type": "code",
   "execution_count": 17,
   "id": "86c12e74",
   "metadata": {},
   "outputs": [],
   "source": [
    "import subprocess\n",
    "\n",
    "def schedule_record(program_xml, time_str):\n",
    "    cmd=f'echo ./tr.sh  {program_xml}| at -t {time_str}'\n",
    "    mycmd=subprocess.getoutput(cmd)\n",
    "    print(mycmd)"
   ]
  },
  {
   "cell_type": "code",
   "execution_count": 23,
   "id": "9793e198",
   "metadata": {},
   "outputs": [
    {
     "name": "stdout",
     "output_type": "stream",
     "text": [
      "/home/tony/tv/titan/Dateline.xml\n",
      "init\n",
      "202212150900\n",
      "202212151000\n",
      "202212150900\n",
      "warning: commands will be executed using /bin/sh\n",
      "job 25 at Thu Dec 15 09:00:00 2022\n",
      "/home/tony/tv/titan/The_Best_of_the_Joy_of_Painting.xml\n",
      "init\n",
      "202212151030\n",
      "202212151100\n",
      "202212151030\n",
      "warning: commands will be executed using /bin/sh\n",
      "job 26 at Thu Dec 15 10:30:00 2022\n",
      "/home/tony/tv/titan/The_Peoples_Court.xml\n",
      "init\n",
      "202212151100\n",
      "202212151200\n",
      "202212151100\n",
      "warning: commands will be executed using /bin/sh\n",
      "job 27 at Thu Dec 15 11:00:00 2022\n",
      "/home/tony/tv/titan/NBC_News_Daily.xml\n",
      "init\n",
      "202212151200\n",
      "202212151300\n",
      "202212151200\n",
      "warning: commands will be executed using /bin/sh\n",
      "job 28 at Thu Dec 15 12:00:00 2022\n"
     ]
    }
   ],
   "source": [
    "for p in my_programs:\n",
    "    print(p)\n",
    "    t = TITAN(p)\n",
    "    start_time = t.start_time()\n",
    "    print(start_time)\n",
    "    schedule_record(p, start_time)"
   ]
  },
  {
   "cell_type": "code",
   "execution_count": 19,
   "id": "900cf477",
   "metadata": {},
   "outputs": [
    {
     "name": "stdout",
     "output_type": "stream",
     "text": [
      "23\tThu Dec 15 11:00:00 2022 a tony\r\n",
      "22\tThu Dec 15 10:30:00 2022 a tony\r\n",
      "21\tThu Dec 15 09:00:00 2022 a tony\r\n",
      "24\tThu Dec 15 12:00:00 2022 a tony\r\n"
     ]
    }
   ],
   "source": [
    "! atq"
   ]
  },
  {
   "cell_type": "code",
   "execution_count": 24,
   "id": "621a6c81",
   "metadata": {},
   "outputs": [
    {
     "name": "stdout",
     "output_type": "stream",
     "text": [
      "/home/tony/tv/titan/Dateline.xml\n",
      "init\n",
      "202212150900\n",
      "202212151000\n",
      "60\n",
      "/home/tony/tv/titan/The_Best_of_the_Joy_of_Painting.xml\n",
      "init\n",
      "202212151030\n",
      "202212151100\n",
      "30\n",
      "/home/tony/tv/titan/The_Peoples_Court.xml\n",
      "init\n",
      "202212151100\n",
      "202212151200\n",
      "60\n",
      "/home/tony/tv/titan/NBC_News_Daily.xml\n",
      "init\n",
      "202212151200\n",
      "202212151300\n",
      "60\n"
     ]
    }
   ],
   "source": [
    "for p in my_programs:\n",
    "    print(p)\n",
    "    t=TITAN(p)\n",
    "    print(t.duration())"
   ]
  },
  {
   "cell_type": "code",
   "execution_count": 26,
   "id": "3f9d6378",
   "metadata": {},
   "outputs": [
    {
     "name": "stdout",
     "output_type": "stream",
     "text": [
      "/home/tony/tv/titan/Dateline.xml\n",
      "/home/tony/tv/titan/The_Best_of_the_Joy_of_Painting.xml\n",
      "/home/tony/tv/titan/The_Peoples_Court.xml\n",
      "/home/tony/tv/titan/NBC_News_Daily.xml\n"
     ]
    }
   ],
   "source": [
    "for p in my_programs:\n",
    "    print(p)\n",
    "    state_recording(p)"
   ]
  },
  {
   "cell_type": "code",
   "execution_count": null,
   "id": "7b692761",
   "metadata": {},
   "outputs": [],
   "source": []
  }
 ],
 "metadata": {
  "kernelspec": {
   "display_name": "Python 3 (ipykernel)",
   "language": "python",
   "name": "python3"
  },
  "language_info": {
   "codemirror_mode": {
    "name": "ipython",
    "version": 3
   },
   "file_extension": ".py",
   "mimetype": "text/x-python",
   "name": "python",
   "nbconvert_exporter": "python",
   "pygments_lexer": "ipython3",
   "version": "3.10.8"
  }
 },
 "nbformat": 4,
 "nbformat_minor": 5
}
