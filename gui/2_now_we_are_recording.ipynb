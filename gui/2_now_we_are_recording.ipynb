{
 "cells": [
  {
   "cell_type": "code",
   "execution_count": 1,
   "id": "dd534c57",
   "metadata": {},
   "outputs": [],
   "source": [
    "from classes import TITAN, get_files_titan_xml"
   ]
  },
  {
   "cell_type": "code",
   "execution_count": 2,
   "id": "e01aa3b2",
   "metadata": {},
   "outputs": [],
   "source": [
    "my_programs = get_files_titan_xml()"
   ]
  },
  {
   "cell_type": "code",
   "execution_count": 3,
   "id": "8c89bef1",
   "metadata": {},
   "outputs": [
    {
     "data": {
      "text/plain": [
       "['/home/tony/tv/titan/Dr._Phil.xml',\n",
       " '/home/tony/tv/titan/The_Price_Is_Right.xml',\n",
       " '/home/tony/tv/titan/The_Talk.xml']"
      ]
     },
     "execution_count": 3,
     "metadata": {},
     "output_type": "execute_result"
    }
   ],
   "source": [
    "my_programs"
   ]
  },
  {
   "cell_type": "code",
   "execution_count": 4,
   "id": "ecb4c2a2",
   "metadata": {},
   "outputs": [
    {
     "data": {
      "text/plain": [
       "'/home/tony/tv/titan/Dr._Phil.xml'"
      ]
     },
     "execution_count": 4,
     "metadata": {},
     "output_type": "execute_result"
    }
   ],
   "source": [
    "p = my_programs[0]\n",
    "\n",
    "p"
   ]
  },
  {
   "cell_type": "code",
   "execution_count": 5,
   "id": "63495859",
   "metadata": {},
   "outputs": [
    {
     "name": "stdout",
     "output_type": "stream",
     "text": [
      "init\n",
      "202212141500\n",
      "202212141558\n"
     ]
    }
   ],
   "source": [
    "t = TITAN(p)"
   ]
  },
  {
   "cell_type": "code",
   "execution_count": 6,
   "id": "7c1cf786",
   "metadata": {},
   "outputs": [
    {
     "data": {
      "text/plain": [
       "'202212141500'"
      ]
     },
     "execution_count": 6,
     "metadata": {},
     "output_type": "execute_result"
    }
   ],
   "source": [
    "t.start_time()"
   ]
  },
  {
   "cell_type": "markdown",
   "id": "6f0e0952",
   "metadata": {},
   "source": [
    "# titan recorder\n",
    "\n"
   ]
  },
  {
   "cell_type": "code",
   "execution_count": 7,
   "id": "b83bb962",
   "metadata": {},
   "outputs": [
    {
     "data": {
      "text/plain": [
       "'Dr._Phil'"
      ]
     },
     "execution_count": 7,
     "metadata": {},
     "output_type": "execute_result"
    }
   ],
   "source": [
    "t.title()"
   ]
  },
  {
   "cell_type": "code",
   "execution_count": 8,
   "id": "87c28c9a",
   "metadata": {},
   "outputs": [],
   "source": [
    "video_dir = '/home/tony/tv/video'\n",
    "my_title = t.title()\n",
    "# type(my_title)\n",
    "mpg_file = f'{video_dir}/{my_title}.mpg'"
   ]
  },
  {
   "cell_type": "code",
   "execution_count": 9,
   "id": "524627c5",
   "metadata": {},
   "outputs": [],
   "source": [
    "#! mkdir /home/tony/tv/video"
   ]
  },
  {
   "cell_type": "code",
   "execution_count": 10,
   "id": "fbaef6aa",
   "metadata": {},
   "outputs": [
    {
     "data": {
      "text/plain": [
       "'/home/tony/tv/video/Dr._Phil.mpg'"
      ]
     },
     "execution_count": 10,
     "metadata": {},
     "output_type": "execute_result"
    }
   ],
   "source": [
    "mpg_file"
   ]
  },
  {
   "cell_type": "code",
   "execution_count": 11,
   "id": "d801ee78",
   "metadata": {},
   "outputs": [],
   "source": [
    "from classes import rec_main"
   ]
  },
  {
   "cell_type": "code",
   "execution_count": 12,
   "id": "d06b48c9",
   "metadata": {},
   "outputs": [
    {
     "name": "stdout",
     "output_type": "stream",
     "text": [
      "hello tony\n",
      "1799\n"
     ]
    },
    {
     "ename": "KeyboardInterrupt",
     "evalue": "",
     "output_type": "error",
     "traceback": [
      "\u001b[0;31m---------------------------------------------------------------------------\u001b[0m",
      "\u001b[0;31mKeyboardInterrupt\u001b[0m                         Traceback (most recent call last)",
      "Cell \u001b[0;32mIn[12], line 1\u001b[0m\n\u001b[0;32m----> 1\u001b[0m \u001b[43mrec_main\u001b[49m\u001b[43m(\u001b[49m\u001b[43m)\u001b[49m\n",
      "File \u001b[0;32m~/opt/tv/gui/classes.py:263\u001b[0m, in \u001b[0;36mrec_main\u001b[0;34m()\u001b[0m\n\u001b[1;32m    260\u001b[0m subchannel\u001b[38;5;241m=\u001b[39m\u001b[38;5;124m'\u001b[39m\u001b[38;5;124m4\u001b[39m\u001b[38;5;124m'\u001b[39m\n\u001b[1;32m    261\u001b[0m jb \u001b[38;5;241m=\u001b[39m JOB(basedir, prog_name, start, period, channel, subchannel)\n\u001b[0;32m--> 263\u001b[0m \u001b[43mjb\u001b[49m\u001b[38;5;241;43m.\u001b[39;49m\u001b[43mrecord\u001b[49m\u001b[43m(\u001b[49m\u001b[43m)\u001b[49m\n",
      "File \u001b[0;32m~/opt/tv/gui/classes.py:323\u001b[0m, in \u001b[0;36mJOB.record\u001b[0;34m(self)\u001b[0m\n\u001b[1;32m    320\u001b[0m         device_id \u001b[38;5;241m=\u001b[39m \u001b[38;5;124m'\u001b[39m\u001b[38;5;124m103AF69D\u001b[39m\u001b[38;5;124m'\u001b[39m\n\u001b[1;32m    321\u001b[0m         tuner_num \u001b[38;5;241m=\u001b[39m \u001b[38;5;241m0\u001b[39m\n\u001b[0;32m--> 323\u001b[0m         \u001b[38;5;28;43mself\u001b[39;49m\u001b[38;5;241;43m.\u001b[39;49m\u001b[43m_record\u001b[49m\u001b[43m(\u001b[49m\u001b[43mdevice_id\u001b[49m\u001b[43m,\u001b[49m\u001b[43m \u001b[49m\u001b[43mtuner_num\u001b[49m\u001b[43m)\u001b[49m\n\u001b[1;32m    326\u001b[0m \u001b[38;5;66;03m#     try:\u001b[39;00m\n\u001b[1;32m    327\u001b[0m \u001b[38;5;66;03m#     #(prio, device_id, tuner_num) = tuner\u001b[39;00m\n\u001b[1;32m    328\u001b[0m \u001b[38;5;66;03m#     self._record(device_id, tuner_num)\u001b[39;00m\n\u001b[0;32m   (...)\u001b[0m\n\u001b[1;32m    331\u001b[0m \u001b[38;5;66;03m#     finally:\u001b[39;00m\n\u001b[1;32m    332\u001b[0m \u001b[38;5;66;03m#     # tuners.put_tuner(tuner)\u001b[39;00m\n\u001b[1;32m    333\u001b[0m         \u001b[38;5;28;01mreturn\u001b[39;00m\n",
      "File \u001b[0;32m~/opt/tv/gui/classes.py:369\u001b[0m, in \u001b[0;36mJOB._record\u001b[0;34m(self, device_id, tuner_num)\u001b[0m\n\u001b[1;32m    367\u001b[0m timeleft \u001b[38;5;241m=\u001b[39m td\u001b[38;5;241m.\u001b[39mdays \u001b[38;5;241m*\u001b[39m \u001b[38;5;241m24\u001b[39m \u001b[38;5;241m*\u001b[39m \u001b[38;5;241m60\u001b[39m \u001b[38;5;241m*\u001b[39m \u001b[38;5;241m60\u001b[39m \u001b[38;5;241m+\u001b[39m td\u001b[38;5;241m.\u001b[39mseconds\n\u001b[1;32m    368\u001b[0m \u001b[38;5;28mprint\u001b[39m(timeleft)\n\u001b[0;32m--> 369\u001b[0m \u001b[43mtime\u001b[49m\u001b[38;5;241;43m.\u001b[39;49m\u001b[43msleep\u001b[49m\u001b[43m(\u001b[49m\u001b[43mtimeleft\u001b[49m\u001b[43m)\u001b[49m\n\u001b[1;32m    370\u001b[0m os\u001b[38;5;241m.\u001b[39mkill(p\u001b[38;5;241m.\u001b[39mpid, signal\u001b[38;5;241m.\u001b[39mSIGINT)\n\u001b[1;32m    371\u001b[0m p\u001b[38;5;241m.\u001b[39mwait()\n",
      "\u001b[0;31mKeyboardInterrupt\u001b[0m: "
     ]
    }
   ],
   "source": [
    "rec_main()"
   ]
  },
  {
   "cell_type": "code",
   "execution_count": null,
   "id": "ff6b7e8b",
   "metadata": {},
   "outputs": [],
   "source": []
  }
 ],
 "metadata": {
  "kernelspec": {
   "display_name": "Python 3 (ipykernel)",
   "language": "python",
   "name": "python3"
  },
  "language_info": {
   "codemirror_mode": {
    "name": "ipython",
    "version": 3
   },
   "file_extension": ".py",
   "mimetype": "text/x-python",
   "name": "python",
   "nbconvert_exporter": "python",
   "pygments_lexer": "ipython3",
   "version": "3.10.8"
  }
 },
 "nbformat": 4,
 "nbformat_minor": 5
}
